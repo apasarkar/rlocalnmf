{
 "cells": [
  {
   "cell_type": "code",
   "execution_count": 1,
   "id": "15f48a4f-642a-4502-a5b2-3cd4c9f2bdf1",
   "metadata": {},
   "outputs": [],
   "source": [
    "#This is the notebook for testing the pipeline before pushing any changes\n",
    "import localnmf \n",
    "from localnmf import superpixel_analysis_ring\n",
    "import os\n",
    "import numpy as np\n",
    "import scipy\n",
    "import scipy.sparse\n",
    "import torch_sparse\n",
    "import torch\n",
    "\n",
    "from localnmf import visualization\n",
    "from localnmf.visualization import standard_demix_vid_m\n",
    "import scipy.sparse\n",
    "import scipy\n",
    "import matplotlib.pyplot as plt\n",
    "from localnmf.signal_demixer import SignalDemixer\n",
    "%load_ext line_profiler"
   ]
  },
  {
   "cell_type": "code",
   "execution_count": 2,
   "id": "cde42a98-0a29-4ebb-a36f-7510cde1abe7",
   "metadata": {},
   "outputs": [],
   "source": [
    "input_file = \"../datasets/decomposition.npz\"\n",
    "data = np.load(input_file, allow_pickle=True)"
   ]
  },
  {
   "cell_type": "code",
   "execution_count": 3,
   "id": "c6e74557-0958-4d8e-a58c-3ef30af5dad7",
   "metadata": {},
   "outputs": [],
   "source": [
    "U_sparse = scipy.sparse.csr_matrix(\n",
    "        (data['U_data'], data['U_indices'], data['U_indptr']),\n",
    "        shape=data['U_shape']\n",
    "    ).tocsr()\n",
    "order = data.get('fov_order', np.array(\"C\")).item()\n",
    "shape = data['U_shape']\n",
    "d1,d2 = data['fov_shape']\n",
    "\n",
    "R = data['R']\n",
    "s = data['s']\n",
    "Vt = data['Vt']\n",
    "T = Vt.shape[1]\n",
    "mean_img = data['mean_img']\n",
    "noise_var_img = data['noise_var_img']\n",
    "device='cuda'"
   ]
  },
  {
   "cell_type": "markdown",
   "id": "8586116a-7691-4cc7-abb4-a946151ead8d",
   "metadata": {},
   "source": [
    "# Initialize PMD Object which stores the state of the demixing procedure"
   ]
  },
  {
   "cell_type": "code",
   "execution_count": 4,
   "id": "656051b3-5737-4ba5-81a4-b94e407f49ed",
   "metadata": {},
   "outputs": [],
   "source": "pmd_video = SignalDemixer(U_sparse, R, s, Vt, (d1, d2, T), mean_img, noise_var_img, data_order=order, device=device)"
  },
  {
   "cell_type": "code",
   "execution_count": 5,
   "id": "d1777a37-531e-47c1-9d95-6033cb3de67e",
   "metadata": {},
   "outputs": [],
   "source": [
    "# First pass initialization of neural signals"
   ]
  },
  {
   "cell_type": "code",
   "execution_count": 2,
   "id": "cee0fc06-17a7-4f5d-8c43-b07b00d1e4b8",
   "metadata": {},
   "outputs": [],
   "source": [
    "num_plane = 1\n",
    "cut_off_point = 0.9\n",
    "residual_cut = 0.1\n",
    "length_cut = 3\n",
    "th = 2\n",
    "pseudo_2 = 0.1\n",
    "\n",
    "pmd_video.initialize_signals_superpixels(num_plane, cut_off_point, residual_cut, length_cut, th, pseudo_2, \\\n",
    "                                       text =True, plot_en = True)"
   ]
  },
  {
   "cell_type": "markdown",
   "id": "7dd380ec-c41c-4670-98a2-c33da7a8ac40",
   "metadata": {},
   "source": [
    "# Run the demixing procedure"
   ]
  },
  {
   "cell_type": "code",
   "execution_count": 3,
   "id": "b8c83b58-6d4f-45f1-bc8a-f5a4a988d506",
   "metadata": {},
   "outputs": [],
   "source": [
    "localnmf_params = {\n",
    "        'init': ['lnmf', 'lnmf', 'lnmf', 'lnmf'],\n",
    "        'pseudo_2':[0.1, 0.1, 0.1, 0.1],\n",
    "        'corr_th_fix':0.55,\n",
    "        'switch_point':5,\n",
    "        'corr_th_fix_sec':0.7,\n",
    "        'corr_th_del':0.2,\n",
    "        'merge_corr_thr':0.7,\n",
    "        'merge_overlap_thr':0.7,\n",
    "        'r':20,\n",
    "        'residual_cut':[0.5, 0.6, 0.6, 0.6],\n",
    "        'num_plane': 1,\n",
    "        'patch_size': [100,100],\n",
    "        'maxiter': 25,\n",
    "        'update_after':8, \n",
    "        'plot_en': False,\n",
    "        'skips':0,\n",
    "}\n",
    "\n",
    "corr_th_fix=localnmf_params['corr_th_fix'] \n",
    "switch_point = localnmf_params['switch_point']\n",
    "corr_th_fix_sec = localnmf_params['corr_th_fix_sec']\n",
    "corr_th_del = localnmf_params['corr_th_del']\n",
    "\n",
    "merge_corr_thr= localnmf_params['merge_corr_thr']\n",
    "merge_overlap_thr= localnmf_params['merge_overlap_thr']\n",
    "ring_radius =  localnmf_params['r']\n",
    "pseudo_2 = localnmf_params['pseudo_2']\n",
    "\n",
    "\n",
    "residual_cut = localnmf_params['residual_cut']\n",
    "num_plane= localnmf_params['num_plane']\n",
    "patch_size= localnmf_params['patch_size'] \n",
    "plot_en = localnmf_params['plot_en'] \n",
    "maxiter= localnmf_params['maxiter']\n",
    "update_after = localnmf_params['update_after']\n",
    "skips= localnmf_params['skips'] \n",
    "plot_debug = False\n",
    "denoise = [False for i in range(maxiter)]\n",
    "\n",
    "\n",
    "\n",
    "from localnmf.superpixel_analysis_ring import update_AC_bg_l2_Y_ring_lowrank\n",
    "from localnmf.signal_demixer import SignalDemixer\n",
    "from localnmf.signal_demixer import merge_components, vcorrcoef_resid\n",
    "\n",
    "from localnmf.regression_update import spatial_update_HALS, temporal_update_HALS, project_U_HALS\n",
    "\n",
    "with torch.no_grad():\n",
    "\n",
    "    %lprun -f PMDVideo.support_update_prune_elements_apply_mask a, c, b, W, res, corr_img_all_r, num_list = superpixel_analysis_ring.update_AC_bg_l2_Y_ring_lowrank(pmd_video, maxiter, corr_th_fix, \\\n",
    "                                                                                                           corr_th_fix_sec, corr_th_del, switch_point, skips, \\\n",
    "                                                                                                           merge_corr_thr, merge_overlap_thr, ring_radius, denoise=denoise,\\\n",
    "                                                                                                           plot_en=plot_en, plot_debug=plot_debug, update_after=update_after)\n",
    "    W_final = W.create_complete_ring_matrix(a)\n",
    "    fin_rlt = {'U_sparse': pmd_video.u_sparse.cpu().to_scipy(layout='csr'), 'R': pmd_video.r.cpu().numpy(), 'V': pmd_video.v.cpu().numpy(), 'a':a, 'c':c, 'b':b, \"W\":W_final, \\\n",
    "               'res':res, 'corr_img_all_r':corr_img_all_r, 'num_list':num_list, 'data_order': pmd_video.data_order, 'data_shape':pmd_video.shape};\n",
    "\n",
    "\n"
   ]
  },
  {
   "cell_type": "code",
   "execution_count": 4,
   "id": "80581167-4a56-42f2-96eb-462f386cf5c9",
   "metadata": {},
   "outputs": [],
   "source": [
    "for k in range(c.shape[1]):\n",
    "    fig, ax = plt.subplots(1, 2)\n",
    "    ax[0].imshow(a[:, k].reshape((60, 80), order=pmd_video.data_order))\n",
    "    ax[1].plot(c[:, k])\n",
    "    plt.show()"
   ]
  }
 ],
 "metadata": {
  "kernelspec": {
   "display_name": "Python 3 (ipykernel)",
   "language": "python",
   "name": "python3"
  },
  "language_info": {
   "codemirror_mode": {
    "name": "ipython",
    "version": 3
   },
   "file_extension": ".py",
   "mimetype": "text/x-python",
   "name": "python",
   "nbconvert_exporter": "python",
   "pygments_lexer": "ipython3",
   "version": "3.9.16"
  }
 },
 "nbformat": 4,
 "nbformat_minor": 5
}
